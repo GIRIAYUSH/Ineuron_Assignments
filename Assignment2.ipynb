{
 "cells": [
  {
   "cell_type": "markdown",
   "id": "077097ee-790e-487f-9cf7-a50366f4a590",
   "metadata": {},
   "source": [
    "### PYTHON ASSIGNMENT 2"
   ]
  },
  {
   "cell_type": "markdown",
   "id": "1afc6c5c-2aff-47d9-80ec-b59a354f857c",
   "metadata": {},
   "source": [
    "Q1. Create the below pattern using nested for loop in Python"
   ]
  },
  {
   "cell_type": "code",
   "execution_count": 23,
   "id": "c5ca6192-b9c5-4520-bd6f-6c33fae91cb5",
   "metadata": {},
   "outputs": [
    {
     "name": "stdout",
     "output_type": "stream",
     "text": [
      "* \n",
      "* * \n",
      "* * * \n",
      "* * * * \n",
      "* * * * * \n",
      "* * * * \n",
      "* * * \n",
      "* * \n",
      "* \n"
     ]
    }
   ],
   "source": [
    "\n",
    "n=5 \n",
    "#top part: \n",
    "for i in range(n): \n",
    "    for j in range(i+1):\n",
    "        print('*',end=\" \")\n",
    "    print() #for seperate line\n",
    "#bottom part\n",
    "for i in range (n-1):\n",
    "    for j in range(n-i-1):\n",
    "        print('*', end=\" \")\n",
    "    print() #for seperate line"
   ]
  },
  {
   "cell_type": "markdown",
   "id": "db01041f-4632-41a3-8114-b847d32e5202",
   "metadata": {},
   "source": [
    "### Write a Python Program to reverse a word after accepting the input from the user. "
   ]
  },
  {
   "cell_type": "code",
   "execution_count": 24,
   "id": "986f10d5-7699-41f4-aa37-037c988feb4b",
   "metadata": {},
   "outputs": [
    {
     "name": "stdin",
     "output_type": "stream",
     "text": [
      "Enter a string input Ayush Giri\n"
     ]
    }
   ],
   "source": [
    "value=str(input(\"Enter a string input\"))"
   ]
  },
  {
   "cell_type": "code",
   "execution_count": 25,
   "id": "60d6ec13-33a6-4318-a901-8155d587d2c0",
   "metadata": {},
   "outputs": [
    {
     "name": "stdout",
     "output_type": "stream",
     "text": [
      "The reverse of the string Ayush Giri is iriG hsuyA\n"
     ]
    }
   ],
   "source": [
    "print(f\"The reverse of the string {value} is {value[::-1]}\")"
   ]
  },
  {
   "cell_type": "code",
   "execution_count": null,
   "id": "b021ee9d-b8f4-4e62-bc15-828a03d3dc31",
   "metadata": {},
   "outputs": [],
   "source": []
  }
 ],
 "metadata": {
  "kernelspec": {
   "display_name": "Python 3 (ipykernel)",
   "language": "python",
   "name": "python3"
  },
  "language_info": {
   "codemirror_mode": {
    "name": "ipython",
    "version": 3
   },
   "file_extension": ".py",
   "mimetype": "text/x-python",
   "name": "python",
   "nbconvert_exporter": "python",
   "pygments_lexer": "ipython3",
   "version": "3.10.9"
  }
 },
 "nbformat": 4,
 "nbformat_minor": 5
}
