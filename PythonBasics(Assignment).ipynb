{
 "cells": [
  {
   "cell_type": "markdown",
   "id": "4394b982-13c7-4fe3-b3dc-e4eacb533a14",
   "metadata": {},
   "source": [
    "### ASSIGNMENT1 : Python Basics \n",
    "\n"
   ]
  },
  {
   "cell_type": "markdown",
   "id": "6d6fbf66-7b68-428e-a087-65cabdf9403d",
   "metadata": {},
   "source": [
    "1. Write a program which will find such numbers which are divisible by 7 but ot a multiple of 5 , between 2000 and 3200 both included. The number should be printed in a comma-seperated sequence on a single line. "
   ]
  },
  {
   "cell_type": "code",
   "execution_count": 5,
   "id": "ae4ce018-6325-431c-8367-b003d853aec9",
   "metadata": {},
   "outputs": [
    {
     "name": "stdout",
     "output_type": "stream",
     "text": [
      "2002, 2009, 2016, 2023, 2037, 2044, 2051, 2058, 2072, 2079, 2086, 2093, 2107, 2114, 2121, 2128, 2142, 2149, 2156, 2163, 2177, 2184, 2191, 2198, 2212, 2219, 2226, 2233, 2247, 2254, 2261, 2268, 2282, 2289, 2296, 2303, 2317, 2324, 2331, 2338, 2352, 2359, 2366, 2373, 2387, 2394, 2401, 2408, 2422, 2429, 2436, 2443, 2457, 2464, 2471, 2478, 2492, 2499, 2506, 2513, 2527, 2534, 2541, 2548, 2562, 2569, 2576, 2583, 2597, 2604, 2611, 2618, 2632, 2639, 2646, 2653, 2667, 2674, 2681, 2688, 2702, 2709, 2716, 2723, 2737, 2744, 2751, 2758, 2772, 2779, 2786, 2793, 2807, 2814, 2821, 2828, 2842, 2849, 2856, 2863, 2877, 2884, 2891, 2898, 2912, 2919, 2926, 2933, 2947, 2954, 2961, 2968, 2982, 2989, 2996, 3003, 3017, 3024, 3031, 3038, 3052, 3059, 3066, 3073, 3087, 3094, 3101, 3108, 3122, 3129, 3136, 3143, 3157, 3164, 3171, 3178, 3192, 3199, "
     ]
    }
   ],
   "source": [
    "#establishing a variable range: \n",
    "values=range(2000,3201)\n",
    "#value extraction and check if each of the values is divisible by 7 and 5\n",
    "for i in values: \n",
    "    if ((i%7==0) and (i % 5 !=0)):\n",
    "        #printing as comma seperated value in the same line \n",
    "        print(str(i)+\",\",end=\" \")\n",
    "        \n"
   ]
  },
  {
   "cell_type": "markdown",
   "id": "dbdb18f2-9a64-437d-9b72-7f52dff74465",
   "metadata": {},
   "source": [
    "2. Write a Python Program to accept the user's first and last name and then getting them printed in the reverse order with a space between first name and last name "
   ]
  },
  {
   "cell_type": "code",
   "execution_count": 9,
   "id": "b7012cfc-306d-4513-88e1-d8c7be5257d0",
   "metadata": {},
   "outputs": [
    {
     "name": "stdin",
     "output_type": "stream",
     "text": [
      "Enter your first name Ayush\n",
      "Enter your last name Giri\n"
     ]
    },
    {
     "name": "stdout",
     "output_type": "stream",
     "text": [
      "The reversed name with white spaces is : \n",
      " iriG hsuyA\n"
     ]
    }
   ],
   "source": [
    "#getting first name and last name from the user. \n",
    "first_name=str(input(\"Enter your first name\")) \n",
    "last_name=str(input(\"Enter your last name\"))\n",
    "#string concatenation for the full name feature\n",
    "full_name=first_name+\" \" + last_name\n",
    "#reversing the name\n",
    "reversed_name=full_name[::-1]\n",
    "#printing the result\n",
    "print(\"The reversed name with white spaces is : \\n\",reversed_name)\n"
   ]
  },
  {
   "cell_type": "markdown",
   "id": "835631cc-5f51-4f1e-8552-5f4cac938bc2",
   "metadata": {},
   "source": [
    "3. Write a program to find the volume of a sphere with diameter 12cm "
   ]
  },
  {
   "cell_type": "code",
   "execution_count": 11,
   "id": "d46ac108-37be-47ec-9cda-26f48de2fdd6",
   "metadata": {},
   "outputs": [
    {
     "name": "stdin",
     "output_type": "stream",
     "text": [
      "What is the diameter of the sphere 12\n"
     ]
    },
    {
     "name": "stdout",
     "output_type": "stream",
     "text": [
      "The volume of the sphere is  0.0009047807999999997\n"
     ]
    }
   ],
   "source": [
    "#taking diameter input\n",
    "diameter=float(input(\"What is the diameter of the sphere\"))\n",
    "#converting the diameter values to radius and in meters. \n",
    "r=(diameter/100)/2\n",
    "volume=(4/3)*3.1416*(r**3)\n",
    "print(\"The volume of the sphere is \", volume) "
   ]
  },
  {
   "cell_type": "code",
   "execution_count": null,
   "id": "605c6bd0-692d-4a17-9977-d50207eb87dc",
   "metadata": {},
   "outputs": [],
   "source": []
  }
 ],
 "metadata": {
  "kernelspec": {
   "display_name": "Python 3 (ipykernel)",
   "language": "python",
   "name": "python3"
  },
  "language_info": {
   "codemirror_mode": {
    "name": "ipython",
    "version": 3
   },
   "file_extension": ".py",
   "mimetype": "text/x-python",
   "name": "python",
   "nbconvert_exporter": "python",
   "pygments_lexer": "ipython3",
   "version": "3.10.9"
  }
 },
 "nbformat": 4,
 "nbformat_minor": 5
}
